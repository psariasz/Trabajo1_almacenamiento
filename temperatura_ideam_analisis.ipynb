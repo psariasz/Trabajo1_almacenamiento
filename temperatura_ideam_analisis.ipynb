{
 "cells": [
  {
   "cell_type": "code",
   "execution_count": 2,
   "id": "00692313",
   "metadata": {},
   "outputs": [
    {
     "data": {
      "text/html": [
       "Current session configs: <tt>{'conf': {'spark.pyspark.python': 'python3', 'spark.pyspark.virtualenv.enabled': 'true', 'spark.pyspark.virtualenv.type': 'native', 'spark.pyspark.virtualenv.bin.path': '/usr/bin/virtualenv'}, 'proxyUser': 'jovyan', 'kind': 'pyspark'}</tt><br>"
      ],
      "text/plain": [
       "<IPython.core.display.HTML object>"
      ]
     },
     "metadata": {},
     "output_type": "display_data"
    },
    {
     "data": {
      "text/html": [
       "No active sessions."
      ],
      "text/plain": [
       "<IPython.core.display.HTML object>"
      ]
     },
     "metadata": {},
     "output_type": "display_data"
    }
   ],
   "source": [
    "%%configure -f\n",
    "{ \"conf\":{\n",
    "\"spark.pyspark.python\": \"python3\",\n",
    "\"spark.pyspark.virtualenv.enabled\": \"true\",\n",
    "\"spark.pyspark.virtualenv.type\":\"native\",\n",
    "\"spark.pyspark.virtualenv.bin.path\":\"/usr/bin/virtualenv\"\n",
    "}}"
   ]
  },
  {
   "cell_type": "code",
   "execution_count": 8,
   "id": "cd1af7b3",
   "metadata": {},
   "outputs": [
    {
     "data": {
      "application/vnd.jupyter.widget-view+json": {
       "model_id": "a8665d97dddd4607b1891535de2fd95a",
       "version_major": 2,
       "version_minor": 0
      },
      "text/plain": [
       "FloatProgress(value=0.0, bar_style='info', description='Progress:', layout=Layout(height='25px', width='50%'),…"
      ]
     },
     "metadata": {},
     "output_type": "display_data"
    }
   ],
   "source": [
    "df = spark.read.option(\"header\",True).csv(\"s3://psariaszlab1/raw/temperatura_ideam.csv\",inferSchema=True)"
   ]
  },
  {
   "cell_type": "code",
   "execution_count": 9,
   "id": "1702bbd7",
   "metadata": {},
   "outputs": [
    {
     "data": {
      "application/vnd.jupyter.widget-view+json": {
       "model_id": "5a49b0262d5244839816042f9628af77",
       "version_major": 2,
       "version_minor": 0
      },
      "text/plain": [
       "FloatProgress(value=0.0, bar_style='info', description='Progress:', layout=Layout(height='25px', width='50%'),…"
      ]
     },
     "metadata": {},
     "output_type": "display_data"
    },
    {
     "name": "stdout",
     "output_type": "stream",
     "text": [
      "+--------------+------------+-------------------+--------------+--------------------+------------------+------------+----------------+-----------+-------------+-----------------+------------+\n",
      "|codigoestacion|codigosensor|   fechaobservacion|valorobservado|      nombreestacion|      departamento|   municipio|zonahidrografica|    latitud|     longitud|descripcionsensor|unidadmedida|\n",
      "+--------------+------------+-------------------+--------------+--------------------+------------------+------------+----------------+-----------+-------------+-----------------+------------+\n",
      "|      23125170|          68|2006-09-21 12:00:00|          15.9|  SAN CAYETANO - AUT|      CUNDINAMARCA|SAN CAYETANO| MEDIO MAGDALENA|5.333333333|-74.016666667|    Temp Aire 2 m|          °C|\n",
      "|      16025501|          68|2018-12-02 09:20:00|      23.02354|    CUCUTILLA  - AUT|NORTE DE SANTANDER|   CUCUTILLA|       CATATUMBO|7.519455556| -72.79790278|    Temp Aire 2 m|          °C|\n",
      "|      52055501|          68|2016-06-25 04:05:00|          16.3| OSPINA PEREZ  - AUT|            NARIÑO|     CONSACÁ|           PATÍA|1.254722222| -77.48777778|    Temp Aire 2 m|          °C|\n",
      "|      52055210|          68|2014-06-02 08:00:00|          13.3|        BOTANA - AUT|            NARIÑO|       PASTO|           PATÍA|       1.16| -77.27880556|    Temp Aire 2 m|          °C|\n",
      "|      26155502|          68|2019-07-27 00:05:00|      20.45158|     CENICAFE  - AUT|            CALDAS|   MANIZALES|           CAUCA|4.991111111| -75.59749722|    Temp Aire 2 m|          °C|\n",
      "|      21208480|          68|2012-03-16 15:15:00|          19.1|     KENNEDY - FOPAE|       BOGOTA D.C.| BOGOTA, D.C|  ALTO MAGDALENA|      4.633|       -74.15|    Temp Aire 2 m|          °C|\n",
      "|      21208480|          68|2016-01-17 23:55:00|          16.6|     KENNEDY - FOPAE|       BOGOTA D.C.| BOGOTA, D.C|  ALTO MAGDALENA|      4.633|       -74.15|    Temp Aire 2 m|          °C|\n",
      "|      24035390|          68|2015-02-24 00:00:00|           2.9|PARAMO ALMORZADER...|         SANTANDER|     CERRITO|        SOGAMOSO|6.945388889| -72.69633333|    Temp Aire 2 m|          °C|\n",
      "|      21205519|          68|2019-04-20 03:50:00|        11.072|SAN FORTUNATO  - AUT|      CUNDINAMARCA|      SIBATÉ|  ALTO MAGDALENA|      4.452|      -74.272|    Temp Aire 2 m|          °C|\n",
      "|      23055501|          68|2017-10-10 22:50:00|      19.13098| SANTA HELENA  - AUT|            CALDAS| MARQUETALIA| MEDIO MAGDALENA|5.317497222| -74.99610833|    Temp Aire 2 m|          °C|\n",
      "|      26175502|          68|2017-09-05 09:20:00|      25.59289|LA CRISTALINA  - AUT|         ANTIOQUIA|     TÁMESIS|           CAUCA|        5.7| -75.65999722|    Temp Aire 2 m|          °C|\n",
      "|      24015501|          68|2019-07-26 10:05:00|      22.53393|       BERTHA  - AUT|            BOYACÁ|   MONIQUIRÁ|        SOGAMOSO|5.882777778| -73.57333056|    Temp Aire 2 m|          °C|\n",
      "|    2120700037|          68|2019-07-08 10:23:00|         15.64|CASAS FISCALES ES...|       BOGOTA D.C.| BOGOTA, D.C|  ALTO MAGDALENA|      4.556|      -74.125|    Temp Aire 2 m|          °C|\n",
      "|      24025501|          68|2018-12-22 18:25:00|      19.64381|ALBERTO SANTOS  -...|         SANTANDER|     SOCORRO|        SOGAMOSO|6.493052778| -73.22111111|    Temp Aire 2 m|          °C|\n",
      "|      21115180|          68|2015-12-04 05:00:00|          23.3|HACIENDA MANILA -...|             HUILA|      BARAYA|  ALTO MAGDALENA|3.133055556| -75.08152778|    Temp Aire 2 m|          °C|\n",
      "|      23065502|          68|2017-05-17 05:00:00|          17.5|     LA PALMA  - AUT|      CUNDINAMARCA|    LA PALMA| MEDIO MAGDALENA|5.330266667| -74.40156111|    Temp Aire 2 m|          °C|\n",
      "|      29045000|          68|2014-12-25 10:00:00|          30.7| SABANALARGA TX GPRS|         ATLÁNTICO| SABANALARGA|  BAJO MAGDALENA|     10.637|      -74.919|    Temp Aire 2 m|          °C|\n",
      "|      21202200|          68|2011-04-18 12:00:00|          17.1|             VITELMA|       BOGOTA D.C.| BOGOTA, D.C|            META|      4.575|      -74.072|    Temp Aire 2 m|          °C|\n",
      "|      11159010|          68|2010-07-15 18:00:00|          27.0| CAPURGANA - TX GPRS|             CHOCÓ|      ACANDÍ| ATRATO - DARIÉN|      8.616|      -77.331|    Temp Aire 2 m|          °C|\n",
      "|      23085260|          68|2015-04-12 11:00:00|          25.4|      LA SELVA - AUT|         ANTIOQUIA|    RIONEGRO| MEDIO MAGDALENA|6.131916667| -75.41455556|    Temp Aire 2 m|          °C|\n",
      "+--------------+------------+-------------------+--------------+--------------------+------------------+------------+----------------+-----------+-------------+-----------------+------------+\n",
      "only showing top 20 rows"
     ]
    }
   ],
   "source": [
    "df.show()"
   ]
  },
  {
   "cell_type": "code",
   "execution_count": 10,
   "id": "647901f4",
   "metadata": {},
   "outputs": [
    {
     "data": {
      "application/vnd.jupyter.widget-view+json": {
       "model_id": "fecd76363ad74b33ac98ef3f161fa46d",
       "version_major": 2,
       "version_minor": 0
      },
      "text/plain": [
       "FloatProgress(value=0.0, bar_style='info', description='Progress:', layout=Layout(height='25px', width='50%'),…"
      ]
     },
     "metadata": {},
     "output_type": "display_data"
    },
    {
     "name": "stdout",
     "output_type": "stream",
     "text": [
      "+------------------+-------------------+\n",
      "|      departamento|avg(valorobservado)|\n",
      "+------------------+-------------------+\n",
      "|           CÓRDOBA|             26.425|\n",
      "|          CASANARE| 21.934563333333333|\n",
      "|         ANTIOQUIA| 20.242767605633805|\n",
      "|           BOLÍVAR|               28.4|\n",
      "|      CUNDINAMARCA| 16.364248021978014|\n",
      "|NORTE DE SANTANDER|         19.9874839|\n",
      "|          PUTUMAYO|  24.14285714285714|\n",
      "|            NARIÑO|  16.74514676470588|\n",
      "|            BOYACÁ| 16.815409318181818|\n",
      "|           GUAINÍA|               23.2|\n",
      "|             CAUCA|  18.95000137254902|\n",
      "|        LA GUAJIRA| 28.657142857142862|\n",
      "|             HUILA| 19.047806315789476|\n",
      "|             SUCRE|  22.33333333333334|\n",
      "|           QUINDÍO|  20.79653689655172|\n",
      "|             CESAR| 26.872727272727275|\n",
      "|         SANTANDER| 17.159254193548385|\n",
      "|           CAQUETA| 22.985110714285714|\n",
      "|          AMAZONAS|              26.55|\n",
      "|             CHOCO|          22.655575|\n",
      "+------------------+-------------------+\n",
      "only showing top 20 rows"
     ]
    }
   ],
   "source": [
    "df.groupBy('departamento').agg({'valorobservado': 'mean'}).show()"
   ]
  },
  {
   "cell_type": "code",
   "execution_count": 11,
   "id": "94b7ed4e",
   "metadata": {},
   "outputs": [
    {
     "data": {
      "application/vnd.jupyter.widget-view+json": {
       "model_id": "294a65b288f440329b942beb5730c362",
       "version_major": 2,
       "version_minor": 0
      },
      "text/plain": [
       "FloatProgress(value=0.0, bar_style='info', description='Progress:', layout=Layout(height='25px', width='50%'),…"
      ]
     },
     "metadata": {},
     "output_type": "display_data"
    },
    {
     "name": "stdout",
     "output_type": "stream",
     "text": [
      "Missing values in codigoestacion: 0\n",
      "Missing values in codigosensor: 0\n",
      "Missing values in fechaobservacion: 0\n",
      "Missing values in valorobservado: 0\n",
      "Missing values in nombreestacion: 0\n",
      "Missing values in departamento: 0\n",
      "Missing values in municipio: 0\n",
      "Missing values in zonahidrografica: 0\n",
      "Missing values in latitud: 0\n",
      "Missing values in longitud: 0\n",
      "Missing values in descripcionsensor: 0\n",
      "Missing values in unidadmedida: 0"
     ]
    }
   ],
   "source": [
    "# Número de datos faltantes por columna\n",
    "for column in df.columns:\n",
    "    missing_count = df.filter(df[column].isNull()).count()\n",
    "    print(f\"Missing values in {column}: {missing_count}\")"
   ]
  },
  {
   "cell_type": "code",
   "execution_count": 12,
   "id": "696022ba",
   "metadata": {},
   "outputs": [
    {
     "data": {
      "application/vnd.jupyter.widget-view+json": {
       "model_id": "e8943465e0ed400296979faa979d6e3e",
       "version_major": 2,
       "version_minor": 0
      },
      "text/plain": [
       "FloatProgress(value=0.0, bar_style='info', description='Progress:', layout=Layout(height='25px', width='50%'),…"
      ]
     },
     "metadata": {},
     "output_type": "display_data"
    },
    {
     "name": "stdout",
     "output_type": "stream",
     "text": [
      "Unique values in codigoestacion: 300\n",
      "Unique values in codigosensor: 1\n",
      "Unique values in fechaobservacion: 997\n",
      "Unique values in valorobservado: 666\n",
      "Unique values in nombreestacion: 299\n",
      "Unique values in departamento: 35\n",
      "Unique values in municipio: 226\n",
      "Unique values in zonahidrografica: 29\n",
      "Unique values in latitud: 295\n",
      "Unique values in longitud: 293\n",
      "Unique values in descripcionsensor: 1\n",
      "Unique values in unidadmedida: 1"
     ]
    }
   ],
   "source": [
    "for column in df.columns:\n",
    "    print(f\"Unique values in {column}: {df.select(column).distinct().count()}\")"
   ]
  },
  {
   "cell_type": "code",
   "execution_count": 19,
   "id": "f41fa0e2",
   "metadata": {},
   "outputs": [
    {
     "data": {
      "application/vnd.jupyter.widget-view+json": {
       "model_id": "dde254d7e4814e92ad9bb6ced4fac2d6",
       "version_major": 2,
       "version_minor": 0
      },
      "text/plain": [
       "FloatProgress(value=0.0, bar_style='info', description='Progress:', layout=Layout(height='25px', width='50%'),…"
      ]
     },
     "metadata": {},
     "output_type": "display_data"
    },
    {
     "name": "stdout",
     "output_type": "stream",
     "text": [
      "+-------+-------------------+------------+------------------+---------------+---------------+-------------+--------------------+------------------+------------------+-----------------+------------+\n",
      "|summary|     codigoestacion|codigosensor|    valorobservado| nombreestacion|   departamento|    municipio|    zonahidrografica|           latitud|          longitud|descripcionsensor|unidadmedida|\n",
      "+-------+-------------------+------------+------------------+---------------+---------------+-------------+--------------------+------------------+------------------+-----------------+------------+\n",
      "|  count|               1000|        1000|              1000|           1000|           1000|         1000|                1000|              1000|              1000|             1000|        1000|\n",
      "|   mean|    1.48645602567E8|        68.0|18.798422145999993|           null|           null|         null|                null| 4.987807572998997|-74.94852337826308|             null|        null|\n",
      "| stddev|4.941658493589811E8|         0.0|6.0871743047574345|           null|           null|         null|                null|2.1086536665475064|1.3385316631454822|             null|        null|\n",
      "|    min|           11025501|          68|               0.0| ACEVEDO  - AUT|       AMAZONAS|       ACANDÍ|               <nil>|             -3.78|           -81.731|    Temp Aire 2 m|          °C|\n",
      "|    max|         3505500061|          68|              39.2|ZETAQUIRA - AUT|VALLE DEL CAUCA|ZONA BANANERA|TAPAJE - DAGUA - ...|            12.542|           -67.932|    Temp Aire 2 m|          °C|\n",
      "+-------+-------------------+------------+------------------+---------------+---------------+-------------+--------------------+------------------+------------------+-----------------+------------+"
     ]
    }
   ],
   "source": [
    "df.describe().show()"
   ]
  }
 ],
 "metadata": {
  "kernelspec": {
   "display_name": "PySpark",
   "language": "python",
   "name": "pysparkkernel"
  },
  "language_info": {
   "codemirror_mode": {
    "name": "python",
    "version": 3
   },
   "file_extension": ".py",
   "mimetype": "text/x-python",
   "name": "pyspark",
   "pygments_lexer": "python3"
  }
 },
 "nbformat": 4,
 "nbformat_minor": 5
}
